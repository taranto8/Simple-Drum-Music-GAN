{
  "nbformat": 4,
  "nbformat_minor": 0,
  "metadata": {
    "colab": {
      "name": "Music GAN.ipynb",
      "provenance": [],
      "collapsed_sections": []
    },
    "kernelspec": {
      "display_name": "Python 3",
      "name": "python3"
    },
    "accelerator": "GPU"
  },
  "cells": [
    {
      "cell_type": "code",
      "metadata": {
        "colab": {
          "base_uri": "https://localhost:8080/"
        },
        "id": "nRgj2l94_CPp",
        "outputId": "629ecdfa-e8d4-45ab-a757-12484aa8aa7f"
      },
      "source": [
        "# We need to run this because there might be too many packages with the name \"midi\" and the wrong one is getting priority:\n",
        "\n",
        "!pip freeze"
      ],
      "execution_count": null,
      "outputs": [
        {
          "output_type": "stream",
          "text": [
            "absl-py==0.10.0\n",
            "alabaster==0.7.12\n",
            "albumentations==0.1.12\n",
            "altair==4.1.0\n",
            "appdirs==1.4.4\n",
            "argon2-cffi==20.1.0\n",
            "asgiref==3.3.1\n",
            "astor==0.8.1\n",
            "astropy==4.2\n",
            "astunparse==1.6.3\n",
            "async-generator==1.10\n",
            "atari-py==0.2.6\n",
            "atomicwrites==1.4.0\n",
            "attrs==20.3.0\n",
            "audioread==2.1.9\n",
            "autograd==1.3\n",
            "Babel==2.9.0\n",
            "backcall==0.2.0\n",
            "beautifulsoup4==4.6.3\n",
            "bleach==3.3.0\n",
            "blis==0.4.1\n",
            "bokeh==2.1.1\n",
            "Bottleneck==1.3.2\n",
            "branca==0.4.2\n",
            "bs4==0.0.1\n",
            "CacheControl==0.12.6\n",
            "cachetools==4.2.1\n",
            "catalogue==1.0.0\n",
            "certifi==2020.12.5\n",
            "cffi==1.14.5\n",
            "chainer==7.4.0\n",
            "chardet==3.0.4\n",
            "click==7.1.2\n",
            "cloudpickle==1.3.0\n",
            "cmake==3.12.0\n",
            "cmdstanpy==0.9.5\n",
            "colorlover==0.3.0\n",
            "community==1.0.0b1\n",
            "contextlib2==0.5.5\n",
            "convertdate==2.3.1\n",
            "coverage==3.7.1\n",
            "coveralls==0.5\n",
            "crcmod==1.7\n",
            "cufflinks==0.17.3\n",
            "cupy-cuda101==7.4.0\n",
            "cvxopt==1.2.6\n",
            "cvxpy==1.0.31\n",
            "cycler==0.10.0\n",
            "cymem==2.0.5\n",
            "Cython==0.29.22\n",
            "daft==0.0.4\n",
            "dask==2.12.0\n",
            "datascience==0.10.6\n",
            "debugpy==1.0.0\n",
            "decorator==4.4.2\n",
            "defusedxml==0.7.1\n",
            "descartes==1.1.0\n",
            "dill==0.3.3\n",
            "distributed==1.25.3\n",
            "Django==3.1.7\n",
            "dlib==19.18.0\n",
            "dm-tree==0.1.5\n",
            "docopt==0.6.2\n",
            "docutils==0.16\n",
            "dopamine-rl==1.0.5\n",
            "earthengine-api==0.1.255\n",
            "easydict==1.9\n",
            "ecos==2.0.7.post1\n",
            "editdistance==0.5.3\n",
            "en-core-web-sm==2.2.5\n",
            "entrypoints==0.3\n",
            "ephem==3.7.7.1\n",
            "et-xmlfile==1.0.1\n",
            "fa2==0.3.5\n",
            "fancyimpute==0.4.3\n",
            "fastai==1.0.61\n",
            "fastdtw==0.3.4\n",
            "fastprogress==1.0.0\n",
            "fastrlock==0.5\n",
            "fbprophet==0.7.1\n",
            "feather-format==0.4.1\n",
            "filelock==3.0.12\n",
            "firebase-admin==4.4.0\n",
            "fix-yahoo-finance==0.0.22\n",
            "Flask==1.1.2\n",
            "flatbuffers==1.12\n",
            "folium==0.8.3\n",
            "future==0.16.0\n",
            "gast==0.3.3\n",
            "GDAL==2.2.2\n",
            "gdown==3.6.4\n",
            "gensim==3.6.0\n",
            "geographiclib==1.50\n",
            "geopy==1.17.0\n",
            "gin-config==0.4.0\n",
            "glob2==0.7\n",
            "google==2.0.3\n",
            "google-api-core==1.26.1\n",
            "google-api-python-client==1.12.8\n",
            "google-auth==1.27.1\n",
            "google-auth-httplib2==0.0.4\n",
            "google-auth-oauthlib==0.4.3\n",
            "google-cloud-bigquery==1.21.0\n",
            "google-cloud-bigquery-storage==1.1.0\n",
            "google-cloud-core==1.0.3\n",
            "google-cloud-datastore==1.8.0\n",
            "google-cloud-firestore==1.7.0\n",
            "google-cloud-language==1.2.0\n",
            "google-cloud-storage==1.18.1\n",
            "google-cloud-translate==1.5.0\n",
            "google-colab==1.0.0\n",
            "google-pasta==0.2.0\n",
            "google-resumable-media==0.4.1\n",
            "googleapis-common-protos==1.53.0\n",
            "googledrivedownloader==0.4\n",
            "graphviz==0.10.1\n",
            "grpcio==1.32.0\n",
            "gspread==3.0.1\n",
            "gspread-dataframe==3.0.8\n",
            "gym==0.17.3\n",
            "h5py==2.10.0\n",
            "HeapDict==1.0.1\n",
            "hijri-converter==2.1.1\n",
            "holidays==0.10.5.2\n",
            "holoviews==1.13.5\n",
            "html5lib==1.0.1\n",
            "httpimport==0.5.18\n",
            "httplib2==0.17.4\n",
            "httplib2shim==0.0.3\n",
            "humanize==0.5.1\n",
            "hyperopt==0.1.2\n",
            "ideep4py==2.0.0.post3\n",
            "idna==2.10\n",
            "image==1.5.33\n",
            "imageio==2.4.1\n",
            "imagesize==1.2.0\n",
            "imbalanced-learn==0.4.3\n",
            "imblearn==0.0\n",
            "imgaug==0.2.9\n",
            "importlib-metadata==3.7.2\n",
            "importlib-resources==5.1.2\n",
            "imutils==0.5.4\n",
            "inflect==2.1.0\n",
            "iniconfig==1.1.1\n",
            "intel-openmp==2021.1.2\n",
            "intervaltree==2.1.0\n",
            "ipykernel==4.10.1\n",
            "ipython==5.5.0\n",
            "ipython-genutils==0.2.0\n",
            "ipython-sql==0.3.9\n",
            "ipywidgets==7.6.3\n",
            "itsdangerous==1.1.0\n",
            "jax==0.2.10\n",
            "jaxlib==0.1.62+cuda110\n",
            "jdcal==1.4.1\n",
            "jedi==0.18.0\n",
            "jieba==0.42.1\n",
            "Jinja2==2.11.3\n",
            "joblib==1.0.1\n",
            "jpeg4py==0.1.4\n",
            "jsonschema==2.6.0\n",
            "jupyter==1.0.0\n",
            "jupyter-client==5.3.5\n",
            "jupyter-console==5.2.0\n",
            "jupyter-core==4.7.1\n",
            "jupyterlab-pygments==0.1.2\n",
            "jupyterlab-widgets==1.0.0\n",
            "kaggle==1.5.10\n",
            "kapre==0.1.3.1\n",
            "Keras==2.4.3\n",
            "Keras-Preprocessing==1.1.2\n",
            "keras-vis==0.4.1\n",
            "kiwisolver==1.3.1\n",
            "knnimpute==0.1.0\n",
            "korean-lunar-calendar==0.2.1\n",
            "librosa==0.8.0\n",
            "lightgbm==2.2.3\n",
            "llvmlite==0.34.0\n",
            "lmdb==0.99\n",
            "lucid==0.3.8\n",
            "LunarCalendar==0.0.9\n",
            "lxml==4.2.6\n",
            "Markdown==3.3.4\n",
            "MarkupSafe==1.1.1\n",
            "matplotlib==3.2.2\n",
            "matplotlib-venn==0.11.6\n",
            "midi==0.2.3\n",
            "missingno==0.4.2\n",
            "mistune==0.8.4\n",
            "mizani==0.6.0\n",
            "mkl==2019.0\n",
            "mlxtend==0.14.0\n",
            "more-itertools==8.7.0\n",
            "moviepy==0.2.3.5\n",
            "mpmath==1.2.1\n",
            "msgpack==1.0.2\n",
            "multiprocess==0.70.11.1\n",
            "multitasking==0.0.9\n",
            "murmurhash==1.0.5\n",
            "music21==5.5.0\n",
            "natsort==5.5.0\n",
            "nbclient==0.5.3\n",
            "nbconvert==5.6.1\n",
            "nbformat==5.1.2\n",
            "nest-asyncio==1.5.1\n",
            "networkx==2.5\n",
            "nibabel==3.0.2\n",
            "nltk==3.2.5\n",
            "notebook==5.3.1\n",
            "np-utils==0.5.12.1\n",
            "numba==0.51.2\n",
            "numexpr==2.7.3\n",
            "numpy==1.19.5\n",
            "nvidia-ml-py3==7.352.0\n",
            "oauth2client==4.1.3\n",
            "oauthlib==3.1.0\n",
            "okgrade==0.4.3\n",
            "opencv-contrib-python==4.1.2.30\n",
            "opencv-python==4.1.2.30\n",
            "openpyxl==2.5.9\n",
            "opt-einsum==3.3.0\n",
            "osqp==0.6.2.post0\n",
            "packaging==20.9\n",
            "palettable==3.3.0\n",
            "pandas==1.1.5\n",
            "pandas-datareader==0.9.0\n",
            "pandas-gbq==0.13.3\n",
            "pandas-profiling==1.4.1\n",
            "pandocfilters==1.4.3\n",
            "panel==0.9.7\n",
            "param==1.10.1\n",
            "parso==0.8.1\n",
            "pathlib==1.0.1\n",
            "patsy==0.5.1\n",
            "pexpect==4.8.0\n",
            "pickleshare==0.7.5\n",
            "Pillow==7.0.0\n",
            "pip-tools==4.5.1\n",
            "plac==1.1.3\n",
            "plotly==4.4.1\n",
            "plotnine==0.6.0\n",
            "pluggy==0.7.1\n",
            "pooch==1.3.0\n",
            "portpicker==1.3.1\n",
            "prefetch-generator==1.0.1\n",
            "preshed==3.0.5\n",
            "prettytable==2.1.0\n",
            "progressbar2==3.38.0\n",
            "prometheus-client==0.9.0\n",
            "promise==2.3\n",
            "prompt-toolkit==1.0.18\n",
            "protobuf==3.12.4\n",
            "psutil==5.4.8\n",
            "psycopg2==2.7.6.1\n",
            "ptyprocess==0.7.0\n",
            "py==1.10.0\n",
            "pyarrow==3.0.0\n",
            "pyasn1==0.4.8\n",
            "pyasn1-modules==0.2.8\n",
            "pycocotools==2.0.2\n",
            "pycparser==2.20\n",
            "pyct==0.4.8\n",
            "pydata-google-auth==1.1.0\n",
            "pydot==1.3.0\n",
            "pydot-ng==2.0.0\n",
            "pydotplus==2.0.2\n",
            "PyDrive==1.3.1\n",
            "pyemd==0.5.1\n",
            "pyerfa==1.7.2\n",
            "pyglet==1.5.0\n",
            "Pygments==2.6.1\n",
            "pygobject==3.26.1\n",
            "pymc3==3.7\n",
            "PyMeeus==0.5.9\n",
            "pymongo==3.11.3\n",
            "pymystem3==0.2.0\n",
            "pynndescent==0.5.2\n",
            "PyOpenGL==3.1.5\n",
            "pyparsing==2.4.7\n",
            "pyrsistent==0.17.3\n",
            "pysndfile==1.3.8\n",
            "PySocks==1.7.1\n",
            "pystan==2.19.1.1\n",
            "pytest==3.6.4\n",
            "python-apt==0.0.0\n",
            "python-chess==0.23.11\n",
            "python-dateutil==2.8.1\n",
            "python-louvain==0.15\n",
            "python-slugify==4.0.1\n",
            "python-utils==2.5.6\n",
            "pytz==2018.9\n",
            "pyviz-comms==2.0.1\n",
            "PyWavelets==1.1.1\n",
            "PyYAML==3.13\n",
            "pyzmq==22.0.3\n",
            "qdldl==0.1.5.post0\n",
            "qtconsole==5.0.3\n",
            "QtPy==1.9.0\n",
            "regex==2019.12.20\n",
            "requests==2.23.0\n",
            "requests-oauthlib==1.3.0\n",
            "resampy==0.2.2\n",
            "retrying==1.3.3\n",
            "rpy2==3.4.2\n",
            "rsa==4.7.2\n",
            "scikit-image==0.16.2\n",
            "scikit-learn==0.22.2.post1\n",
            "scipy==1.4.1\n",
            "screen-resolution-extra==0.0.0\n",
            "scs==2.1.2\n",
            "seaborn==0.11.1\n",
            "Send2Trash==1.5.0\n",
            "setuptools-git==1.2\n",
            "Shapely==1.7.1\n",
            "simplegeneric==0.8.1\n",
            "six==1.15.0\n",
            "sklearn==0.0\n",
            "sklearn-pandas==1.8.0\n",
            "smart-open==4.2.0\n",
            "snowballstemmer==2.1.0\n",
            "sortedcontainers==2.3.0\n",
            "SoundFile==0.10.3.post1\n",
            "spacy==2.2.4\n",
            "Sphinx==1.8.5\n",
            "sphinxcontrib-serializinghtml==1.1.4\n",
            "sphinxcontrib-websupport==1.2.4\n",
            "SQLAlchemy==1.3.23\n",
            "sqlparse==0.4.1\n",
            "srsly==1.0.5\n",
            "statsmodels==0.10.2\n",
            "sympy==1.7.1\n",
            "tables==3.4.4\n",
            "tabulate==0.8.9\n",
            "tblib==1.7.0\n",
            "tensorboard==2.4.1\n",
            "tensorboard-plugin-wit==1.8.0\n",
            "tensorflow==2.4.1\n",
            "tensorflow-datasets==4.0.1\n",
            "tensorflow-estimator==2.4.0\n",
            "tensorflow-gcs-config==2.4.0\n",
            "tensorflow-hub==0.11.0\n",
            "tensorflow-metadata==0.28.0\n",
            "tensorflow-probability==0.12.1\n",
            "termcolor==1.1.0\n",
            "terminado==0.9.2\n",
            "testpath==0.4.4\n",
            "text-unidecode==1.3\n",
            "textblob==0.15.3\n",
            "textgenrnn==1.4.1\n",
            "Theano==1.0.5\n",
            "thinc==7.4.0\n",
            "tifffile==2021.3.17\n",
            "toml==0.10.2\n",
            "toolz==0.11.1\n",
            "torch==1.8.0+cu101\n",
            "torchsummary==1.5.1\n",
            "torchtext==0.9.0\n",
            "torchvision==0.9.0+cu101\n",
            "tornado==5.1.1\n",
            "tqdm==4.41.1\n",
            "traitlets==5.0.5\n",
            "tweepy==3.10.0\n",
            "typeguard==2.7.1\n",
            "typing-extensions==3.7.4.3\n",
            "tzlocal==1.5.1\n",
            "umap-learn==0.5.1\n",
            "uritemplate==3.0.1\n",
            "urllib3==1.24.3\n",
            "vega-datasets==0.9.0\n",
            "wasabi==0.8.2\n",
            "wcwidth==0.2.5\n",
            "webencodings==0.5.1\n",
            "Werkzeug==1.0.1\n",
            "widgetsnbextension==3.5.1\n",
            "wordcloud==1.5.0\n",
            "wrapt==1.12.1\n",
            "xarray==0.15.1\n",
            "xgboost==0.90\n",
            "xkit==0.0.0\n",
            "xlrd==1.1.0\n",
            "xlwt==1.3.0\n",
            "yellowbrick==0.9.1\n",
            "zict==2.0.0\n",
            "zipp==3.4.1\n"
          ],
          "name": "stdout"
        }
      ]
    },
    {
      "cell_type": "code",
      "metadata": {
        "id": "XZP9oE-1_dCD"
      },
      "source": [
        "# If there is an extra, uninstall it using this:\n",
        "\n",
        "#!pip uninstall midi"
      ],
      "execution_count": null,
      "outputs": []
    },
    {
      "cell_type": "code",
      "metadata": {
        "colab": {
          "base_uri": "https://localhost:8080/"
        },
        "id": "nZeLH6HvDBju",
        "outputId": "02c8110d-0f99-4e07-9237-311095c44cd3"
      },
      "source": [
        "import numpy as np\n",
        "import pandas as pd\n",
        "import tensorflow as tf\n",
        "from tensorflow.keras import layers\n",
        "import matplotlib.pyplot as plt\n",
        "import time \n",
        "\n",
        "#!pip install wavio\n",
        "#import wavio\n",
        "\n",
        "!apt-get install swig -y\n",
        "#!cd /content/drive/MyDrive/python-midi-master/python-midi-master/ && python \"setup.py\" install\n",
        "!pip install git+https://github.com/vishnubob/python-midi@feature/python3\n",
        "\n",
        "from IPython import display"
      ],
      "execution_count": null,
      "outputs": [
        {
          "output_type": "stream",
          "text": [
            "Reading package lists... Done\n",
            "Building dependency tree       \n",
            "Reading state information... Done\n",
            "swig is already the newest version (3.0.12-1).\n",
            "0 upgraded, 0 newly installed, 0 to remove and 30 not upgraded.\n",
            "Collecting git+https://github.com/vishnubob/python-midi@feature/python3\n",
            "  Cloning https://github.com/vishnubob/python-midi (to revision feature/python3) to /tmp/pip-req-build-fpg6df4w\n",
            "  Running command git clone -q https://github.com/vishnubob/python-midi /tmp/pip-req-build-fpg6df4w\n",
            "  Running command git checkout -b feature/python3 --track origin/feature/python3\n",
            "  Switched to a new branch 'feature/python3'\n",
            "  Branch 'feature/python3' set up to track remote branch 'feature/python3' from 'origin'.\n",
            "Requirement already satisfied (use --upgrade to upgrade): midi==0.2.3 from git+https://github.com/vishnubob/python-midi@feature/python3 in /usr/local/lib/python3.7/dist-packages\n",
            "Building wheels for collected packages: midi\n",
            "  Building wheel for midi (setup.py) ... \u001b[?25l\u001b[?25hdone\n",
            "  Created wheel for midi: filename=midi-0.2.3-cp37-cp37m-linux_x86_64.whl size=281257 sha256=70d6648ba32b7a9c21c4734a71e4640ec9aeb62fe34dd0efd75f8d910c66a6d9\n",
            "  Stored in directory: /tmp/pip-ephem-wheel-cache-j1evmpjv/wheels/63/f9/4a/5e881f1126db389dfda75672c69b5be5bf51b0925cc7b5cbcf\n",
            "Successfully built midi\n"
          ],
          "name": "stdout"
        }
      ]
    },
    {
      "cell_type": "code",
      "metadata": {
        "id": "HmW_QXeJBMcr"
      },
      "source": [
        "# This code was taken and edited from Dan Schiebler's RBM code at http://danshiebler.com/2016-08-10-musical-tensorflow-part-one-the-rbm/\n",
        "# and is based on Dan Johnson's midi manipulation code (see the above link). This comes from the midi_manipulation.py file\n",
        "# in the above website link.\n",
        "import midi\n",
        "\n",
        "lowerBound = 36 #original:24\n",
        "upperBound = 52 #original:102\n",
        "span = upperBound-lowerBound\n",
        "\n",
        "\n",
        "def midiToNoteStateMatrix(midifile, squash=True, span=span):\n",
        "    pattern = midi.read_midifile(midifile)\n",
        "\n",
        "    timeleft = [track[0].tick for track in pattern]\n",
        "\n",
        "    posns = [0 for track in pattern]\n",
        "\n",
        "    statematrix = []\n",
        "    time = 0\n",
        "\n",
        "    state = [[0,0] for x in range(span)]\n",
        "    statematrix.append(state)\n",
        "    condition = True\n",
        "    while condition:\n",
        "        if time % (pattern.resolution / 4) == (pattern.resolution / 8):\n",
        "            # Crossed a note boundary. Create a new state, defaulting to holding notes\n",
        "            oldstate = state\n",
        "            state = [[oldstate[x][0],0] for x in range(span)]\n",
        "            statematrix.append(state)\n",
        "        for i in range(len(timeleft)): #For each track\n",
        "            if not condition:\n",
        "                break\n",
        "            while timeleft[i] == 0:\n",
        "                track = pattern[i]\n",
        "                pos = posns[i]\n",
        "\n",
        "                evt = track[pos]\n",
        "                if isinstance(evt, midi.NoteEvent):\n",
        "                    if (evt.pitch < lowerBound) or (evt.pitch >= upperBound):\n",
        "                        pass\n",
        "                        # print \"Note {} at time {} out of bounds (ignoring)\".format(evt.pitch, time)\n",
        "                    else:\n",
        "                        if isinstance(evt, midi.NoteOffEvent) or evt.velocity == 0:\n",
        "                            state[evt.pitch-lowerBound] = [0, 0]\n",
        "                        else:\n",
        "                            state[evt.pitch-lowerBound] = [1, 1]\n",
        "                elif isinstance(evt, midi.TimeSignatureEvent):\n",
        "                    if evt.numerator not in (2, 4):\n",
        "                        # We don't want to worry about non-4 time signatures. Bail early!\n",
        "                        # print \"Found time signature event {}. Bailing!\".format(evt)\n",
        "                        out =  statematrix\n",
        "                        condition = False\n",
        "                        break\n",
        "                try:\n",
        "                    timeleft[i] = track[pos + 1].tick\n",
        "                    posns[i] += 1\n",
        "                except IndexError:\n",
        "                    timeleft[i] = None\n",
        "\n",
        "            if timeleft[i] is not None:\n",
        "                timeleft[i] -= 1\n",
        "\n",
        "        if all(t is None for t in timeleft):\n",
        "            break\n",
        "\n",
        "        time += 1\n",
        "\n",
        "    S = np.array(statematrix)\n",
        "    statematrix = np.hstack((S[:, :, 0], S[:, :, 1]))\n",
        "    statematrix = np.asarray(statematrix).tolist()\n",
        "    return statematrix\n",
        "\n",
        "def noteStateMatrixToMidi(statematrix, name=\"example\", span=span):\n",
        "    # Channel 9 is drums:\n",
        "    c = 9\n",
        "\n",
        "    statematrix = np.array(statematrix)\n",
        "    if not len(statematrix.shape) == 3:\n",
        "        statematrix = np.dstack((statematrix[:, :span], statematrix[:, span:]))\n",
        "    statematrix = np.asarray(statematrix)\n",
        "    pattern = midi.Pattern()\n",
        "    track = midi.Track()\n",
        "    pattern.append(track)\n",
        "    \n",
        "    span = upperBound-lowerBound\n",
        "    tickscale = 55\n",
        "    \n",
        "    lastcmdtime = 0\n",
        "    prevstate = [[0,0] for x in range(span)]\n",
        "    for time, state in enumerate(statematrix + [prevstate[:]]):  \n",
        "        offNotes = []\n",
        "        onNotes = []\n",
        "        for i in range(span):\n",
        "            n = state[i]\n",
        "            p = prevstate[i]\n",
        "            if p[0] == 1:\n",
        "                if n[0] == 0:\n",
        "                    offNotes.append(i)\n",
        "                elif n[1] == 1:\n",
        "                    offNotes.append(i)\n",
        "                    onNotes.append(i)\n",
        "            elif n[0] == 1:\n",
        "                onNotes.append(i)\n",
        "        for note in offNotes:\n",
        "            # getting rid of the clap, replace with stick click:\n",
        "            #if note == 3:\n",
        "                #note = 1\n",
        "            track.append(midi.NoteOffEvent(channel = c, tick=(time-lastcmdtime)*tickscale, pitch=note+lowerBound))\n",
        "            lastcmdtime = time\n",
        "        for note in onNotes:\n",
        "            # getting rid of the clap, replace with stick click:\n",
        "            #if note == 3:\n",
        "                #note = 1\n",
        "            track.append(midi.NoteOnEvent(channel = c, tick=(time-lastcmdtime)*tickscale, velocity=40, pitch=note+lowerBound))\n",
        "            lastcmdtime = time\n",
        "            \n",
        "        prevstate = state\n",
        "    \n",
        "    eot = midi.EndOfTrackEvent(tick=1)\n",
        "    track.append(eot)\n",
        "\n",
        "    midi.write_midifile(\"/content/drive/MyDrive/Music GAN Images/{}.mid\".format(name), pattern)"
      ],
      "execution_count": null,
      "outputs": []
    },
    {
      "cell_type": "code",
      "metadata": {
        "colab": {
          "base_uri": "https://localhost:8080/",
          "height": 400
        },
        "id": "lRjuvw-wWjQC",
        "outputId": "2d52536d-a872-4dc0-a187-272ca11e5823"
      },
      "source": [
        "info_df = pd.read_csv(\"drive/MyDrive/e-gmd-v1.0.0-midi/e-gmd-v1.0.0/e-gmd-v1.0.0.csv\")\n",
        "info_df.head()"
      ],
      "execution_count": null,
      "outputs": [
        {
          "output_type": "execute_result",
          "data": {
            "text/html": [
              "<div>\n",
              "<style scoped>\n",
              "    .dataframe tbody tr th:only-of-type {\n",
              "        vertical-align: middle;\n",
              "    }\n",
              "\n",
              "    .dataframe tbody tr th {\n",
              "        vertical-align: top;\n",
              "    }\n",
              "\n",
              "    .dataframe thead th {\n",
              "        text-align: right;\n",
              "    }\n",
              "</style>\n",
              "<table border=\"1\" class=\"dataframe\">\n",
              "  <thead>\n",
              "    <tr style=\"text-align: right;\">\n",
              "      <th></th>\n",
              "      <th>drummer</th>\n",
              "      <th>session</th>\n",
              "      <th>id</th>\n",
              "      <th>style</th>\n",
              "      <th>bpm</th>\n",
              "      <th>beat_type</th>\n",
              "      <th>time_signature</th>\n",
              "      <th>duration</th>\n",
              "      <th>split</th>\n",
              "      <th>midi_filename</th>\n",
              "      <th>audio_filename</th>\n",
              "      <th>kit_name</th>\n",
              "    </tr>\n",
              "  </thead>\n",
              "  <tbody>\n",
              "    <tr>\n",
              "      <th>0</th>\n",
              "      <td>drummer1</td>\n",
              "      <td>drummer1/eval_session</td>\n",
              "      <td>drummer1/eval_session/1</td>\n",
              "      <td>funk/groove1</td>\n",
              "      <td>138</td>\n",
              "      <td>beat</td>\n",
              "      <td>4-4</td>\n",
              "      <td>27.8261</td>\n",
              "      <td>test</td>\n",
              "      <td>drummer1/eval_session/1_funk-groove1_138_beat_...</td>\n",
              "      <td>drummer1/eval_session/1_funk-groove1_138_beat_...</td>\n",
              "      <td>Acoustic Kit</td>\n",
              "    </tr>\n",
              "    <tr>\n",
              "      <th>1</th>\n",
              "      <td>drummer1</td>\n",
              "      <td>drummer1/eval_session</td>\n",
              "      <td>drummer1/eval_session/1</td>\n",
              "      <td>funk/groove1</td>\n",
              "      <td>138</td>\n",
              "      <td>beat</td>\n",
              "      <td>4-4</td>\n",
              "      <td>27.8261</td>\n",
              "      <td>test</td>\n",
              "      <td>drummer1/eval_session/1_funk-groove1_138_beat_...</td>\n",
              "      <td>drummer1/eval_session/1_funk-groove1_138_beat_...</td>\n",
              "      <td>JingleStacks (2nd Hi-Hat)</td>\n",
              "    </tr>\n",
              "    <tr>\n",
              "      <th>2</th>\n",
              "      <td>drummer1</td>\n",
              "      <td>drummer1/eval_session</td>\n",
              "      <td>drummer1/eval_session/1</td>\n",
              "      <td>funk/groove1</td>\n",
              "      <td>138</td>\n",
              "      <td>beat</td>\n",
              "      <td>4-4</td>\n",
              "      <td>27.8261</td>\n",
              "      <td>test</td>\n",
              "      <td>drummer1/eval_session/1_funk-groove1_138_beat_...</td>\n",
              "      <td>drummer1/eval_session/1_funk-groove1_138_beat_...</td>\n",
              "      <td>Studio (Live Room)</td>\n",
              "    </tr>\n",
              "    <tr>\n",
              "      <th>3</th>\n",
              "      <td>drummer1</td>\n",
              "      <td>drummer1/eval_session</td>\n",
              "      <td>drummer1/eval_session/1</td>\n",
              "      <td>funk/groove1</td>\n",
              "      <td>138</td>\n",
              "      <td>beat</td>\n",
              "      <td>4-4</td>\n",
              "      <td>27.8261</td>\n",
              "      <td>test</td>\n",
              "      <td>drummer1/eval_session/1_funk-groove1_138_beat_...</td>\n",
              "      <td>drummer1/eval_session/1_funk-groove1_138_beat_...</td>\n",
              "      <td>Classic Rock</td>\n",
              "    </tr>\n",
              "    <tr>\n",
              "      <th>4</th>\n",
              "      <td>drummer1</td>\n",
              "      <td>drummer1/eval_session</td>\n",
              "      <td>drummer1/eval_session/1</td>\n",
              "      <td>funk/groove1</td>\n",
              "      <td>138</td>\n",
              "      <td>beat</td>\n",
              "      <td>4-4</td>\n",
              "      <td>27.8261</td>\n",
              "      <td>test</td>\n",
              "      <td>drummer1/eval_session/1_funk-groove1_138_beat_...</td>\n",
              "      <td>drummer1/eval_session/1_funk-groove1_138_beat_...</td>\n",
              "      <td>Jazz Funk</td>\n",
              "    </tr>\n",
              "  </tbody>\n",
              "</table>\n",
              "</div>"
            ],
            "text/plain": [
              "    drummer  ...                   kit_name\n",
              "0  drummer1  ...               Acoustic Kit\n",
              "1  drummer1  ...  JingleStacks (2nd Hi-Hat)\n",
              "2  drummer1  ...         Studio (Live Room)\n",
              "3  drummer1  ...               Classic Rock\n",
              "4  drummer1  ...                  Jazz Funk\n",
              "\n",
              "[5 rows x 12 columns]"
            ]
          },
          "metadata": {
            "tags": []
          },
          "execution_count": 135
        }
      ]
    },
    {
      "cell_type": "code",
      "metadata": {
        "colab": {
          "base_uri": "https://localhost:8080/"
        },
        "id": "Yei5KO4iORk_",
        "outputId": "90ec8328-301e-4d2f-ab81-8d5e83856129"
      },
      "source": [
        "len(info_df)"
      ],
      "execution_count": null,
      "outputs": [
        {
          "output_type": "execute_result",
          "data": {
            "text/plain": [
              "45537"
            ]
          },
          "metadata": {
            "tags": []
          },
          "execution_count": 136
        }
      ]
    },
    {
      "cell_type": "code",
      "metadata": {
        "colab": {
          "base_uri": "https://localhost:8080/"
        },
        "id": "7ca5DBHIV660",
        "outputId": "9b46b1fb-15a5-49a7-e4ce-6d07171120ad"
      },
      "source": [
        "info_df[\"beat_type\"].value_counts()"
      ],
      "execution_count": null,
      "outputs": [
        {
          "output_type": "execute_result",
          "data": {
            "text/plain": [
              "fill    26961\n",
              "beat    18576\n",
              "Name: beat_type, dtype: int64"
            ]
          },
          "metadata": {
            "tags": []
          },
          "execution_count": 137
        }
      ]
    },
    {
      "cell_type": "code",
      "metadata": {
        "id": "wGx3nrIbZnlw"
      },
      "source": [
        "# Picking out our genres for training data:\n",
        "\n",
        "# Shows first 30 genres (in order of most common):\n",
        "#print(list(info_df[\"style\"].value_counts().index)[:30])\n",
        "\n",
        "# was originally this:\n",
        "#genres = list(info_df[\"style\"].value_counts().index)[:7]\n",
        "# now this:\n",
        "genres = ['rock', 'hiphop', 'funk', 'punk', 'rock/halftime', 'funk/purdieshuffle', 'country', 'funk/rock', 'funk/fast']"
      ],
      "execution_count": null,
      "outputs": []
    },
    {
      "cell_type": "code",
      "metadata": {
        "colab": {
          "base_uri": "https://localhost:8080/"
        },
        "id": "j8_jv99a6zJa",
        "outputId": "62ed7fd5-c09b-42c7-a607-d15a9987ea36"
      },
      "source": [
        "# Check how many training points we will have:\n",
        "count = 0\n",
        "for i in info_df.index:\n",
        "  if (type(info_df.loc[i,\"midi_filename\"]) != float) and (info_df.loc[i,\"beat_type\"] == 'beat') and (info_df.loc[i,\"style\"] in genres):\n",
        "    count += 1\n",
        "\n",
        "count"
      ],
      "execution_count": null,
      "outputs": [
        {
          "output_type": "execute_result",
          "data": {
            "text/plain": [
              "10105"
            ]
          },
          "metadata": {
            "tags": []
          },
          "execution_count": 139
        }
      ]
    },
    {
      "cell_type": "code",
      "metadata": {
        "id": "jSGVHO4tSqFx",
        "colab": {
          "base_uri": "https://localhost:8080/"
        },
        "outputId": "4f74a591-b3e7-4a0e-b025-a6fbc5187395"
      },
      "source": [
        "# This code loads/generates the songlist from the info dataframe:\n",
        "\n",
        "# Loading previously saved songlist:\n",
        "import pickle\n",
        "\n",
        "with open(\"/content/drive/MyDrive/Music GAN Images/songlist.txt\", \"rb\") as fp:\n",
        " songlist = pickle.load(fp)\n",
        "\n",
        "\n",
        "# Making/saving new songlist:\n",
        "#songlist = []\n",
        "\n",
        "#for i in info_df.index:\n",
        "    #if (type(info_df.loc[i,\"midi_filename\"]) != float) and (info_df.loc[i,\"beat_type\"] == 'beat') and (info_df.loc[i,\"style\"] in genres):    # some are nan\n",
        "        #path = \"drive/MyDrive/e-gmd-v1.0.0-midi/e-gmd-v1.0.0/\" + info_df.loc[i,\"midi_filename\"]\n",
        "\n",
        "        #song =  np.array(midiToNoteStateMatrix(path))\n",
        "        #if np.array(song).shape[0] > 15:\n",
        "            #songlist.append(song)\n",
        "\n",
        "# Saving songlist for future use:\n",
        "#import pickle\n",
        "\n",
        "#with open(\"/content/drive/MyDrive/Music GAN Images/songlist.txt\", \"wb\") as fp:\n",
        "  #pickle.dump(songlist, fp)\n",
        "\n",
        "print(len(songlist), \"songs processed.\")"
      ],
      "execution_count": null,
      "outputs": [
        {
          "output_type": "stream",
          "text": [
            "9632 songs processed.\n"
          ],
          "name": "stdout"
        }
      ]
    },
    {
      "cell_type": "code",
      "metadata": {
        "colab": {
          "base_uri": "https://localhost:8080/",
          "height": 320
        },
        "id": "oHp0BRTnOLO_",
        "outputId": "361d257e-a92e-4698-9f50-cecfc078e665"
      },
      "source": [
        "# songlist[i].shape[1] is always 2*(# of notes), 32 in this case.\n",
        "\n",
        "# songlist[i].shape[0] is roughly the length of the song.\n",
        "L = [songlist[i].shape[0] for i in range(len(songlist))]\n",
        "plt.plot(L)\n",
        "plt.show()\n",
        "\n",
        "print(np.median(L))\n",
        "print(np.mean(L))\n",
        "print(np.max(L))"
      ],
      "execution_count": null,
      "outputs": [
        {
          "output_type": "display_data",
          "data": {
            "image/png": "[encoded data removed]",
            "text/plain": [
              "<Figure size 432x288 with 1 Axes>"
            ]
          },
          "metadata": {
            "tags": [],
            "needs_background": "light"
          }
        },
        {
          "output_type": "stream",
          "text": [
            "224.5\n",
            "451.2544642857143\n",
            "3543\n"
          ],
          "name": "stdout"
        }
      ]
    },
    {
      "cell_type": "code",
      "metadata": {
        "id": "1fleW78TEW1V",
        "colab": {
          "base_uri": "https://localhost:8080/"
        },
        "outputId": "908ddb82-9149-4efd-bd67-081bce5d1dc4"
      },
      "source": [
        "BUFFER_SIZE = 60000\n",
        "BATCH_SIZE = 64\n",
        "\n",
        "maxlen = 184\n",
        "train_songs_padded = tf.keras.preprocessing.sequence.pad_sequences(songlist, maxlen=maxlen, padding='post').astype('float32')\n",
        "\n",
        "train_songs_padded = tf.expand_dims(train_songs_padded, axis = -1)\n",
        "\n",
        "train_songs_padded.shape"
      ],
      "execution_count": null,
      "outputs": [
        {
          "output_type": "execute_result",
          "data": {
            "text/plain": [
              "TensorShape([9632, 184, 32, 1])"
            ]
          },
          "metadata": {
            "tags": []
          },
          "execution_count": 142
        }
      ]
    },
    {
      "cell_type": "code",
      "metadata": {
        "id": "mszTZgr3DIvZ"
      },
      "source": [
        "train_dataset = tf.data.Dataset.from_tensor_slices(train_songs_padded).shuffle(BUFFER_SIZE).batch(BATCH_SIZE)\n"
      ],
      "execution_count": null,
      "outputs": []
    },
    {
      "cell_type": "code",
      "metadata": {
        "id": "YGoti9bCGUur"
      },
      "source": [
        "# Creating a custom activation, a rescaling/shift of tanh so the range is (0,1).\n",
        "from keras.utils.generic_utils import get_custom_objects\n",
        "from keras.layers import Activation\n",
        "\n",
        "def positive_tanh(x):\n",
        "  return 0.5*(tf.nn.tanh(x) + 1)\n",
        "\n",
        "get_custom_objects().update({'positive_tanh': Activation(positive_tanh)})"
      ],
      "execution_count": null,
      "outputs": []
    },
    {
      "cell_type": "code",
      "metadata": {
        "id": "KVxudCj8FUsO"
      },
      "source": [
        "# Generator model:\n",
        "# (Do we want to use something other than Conv2DTranspose to boost up from 1 dimension?)\n",
        "\n",
        "def make_generator_model(r, t, val):\n",
        "    model = tf.keras.Sequential()\n",
        "    \n",
        "    model.add(layers.Dense(23*4*256, use_bias=False, input_shape=(100,)))\n",
        "    model.add(layers.BatchNormalization())\n",
        "    model.add(layers.LeakyReLU())\n",
        "\n",
        "    model.add(layers.Reshape((23, 4, 256)))\n",
        "    assert model.output_shape == (None, 23, 4, 256) # Note: None is the batch size\n",
        "\n",
        "    if t:\n",
        "      model.add(layers.Conv2DTranspose(128, (3, 3), strides=(1, 1), padding='same', use_bias=False, kernel_regularizer=tf.keras.regularizers.L2(l2=r), kernel_constraint = tf.keras.constraints.MaxNorm(max_value=val, axis=[0, 1, 2]))) # was 5,5\n",
        "    else:\n",
        "      model.add(layers.Conv2DTranspose(128, (3, 3), strides=(1, 1), padding='same', use_bias=False, kernel_regularizer=tf.keras.regularizers.L2(l2=r)))\n",
        "    assert model.output_shape == (None, 23, 4, 128)\n",
        "    model.add(layers.BatchNormalization())\n",
        "    model.add(layers.LeakyReLU())\n",
        "    \n",
        "    if t:\n",
        "      model.add(layers.Conv2DTranspose(64, (3, 3), strides=(2, 2), padding='same', use_bias=False, kernel_regularizer=tf.keras.regularizers.L2(l2=r), kernel_constraint = tf.keras.constraints.MaxNorm(max_value=val, axis=[0, 1, 2])))\n",
        "    else:\n",
        "      model.add(layers.Conv2DTranspose(64, (3, 3), strides=(2, 2), padding='same', use_bias=False, kernel_regularizer=tf.keras.regularizers.L2(l2=r)))\n",
        "    assert model.output_shape == (None, 46, 8, 64) #1\n",
        "    model.add(layers.BatchNormalization())\n",
        "    model.add(layers.LeakyReLU())\n",
        "\n",
        "    if t:\n",
        "      model.add(layers.Conv2DTranspose(32, (3, 3), strides=(2, 2), padding='same', use_bias=False, kernel_regularizer=tf.keras.regularizers.L2(l2=r), kernel_constraint = tf.keras.constraints.MaxNorm(max_value=val, axis=[0, 1, 2])))\n",
        "    else:\n",
        "      model.add(layers.Conv2DTranspose(32, (3, 3), strides=(2, 2), padding='same', use_bias=False, kernel_regularizer=tf.keras.regularizers.L2(l2=r)))\n",
        "    assert model.output_shape == (None, 92, 16, 32) #1\n",
        "    model.add(layers.BatchNormalization())\n",
        "    model.add(layers.LeakyReLU())\n",
        "\n",
        "    # activation was here, and was tanh. We changed to positive_tanh.\n",
        "    if t:\n",
        "      model.add(layers.Conv2DTranspose(1, (3, 3), strides=(2, 2), padding='same', use_bias=False, kernel_regularizer=tf.keras.regularizers.L2(l2=r), kernel_constraint = tf.keras.constraints.MaxNorm(max_value=val, axis=[0, 1, 2])))\n",
        "    else:\n",
        "      model.add(layers.Conv2DTranspose(1, (3, 3), strides=(2, 2), padding='same', use_bias=False, kernel_regularizer=tf.keras.regularizers.L2(l2=r)))\n",
        "    model.add(Activation(positive_tanh, name='positive_tanh'))\n",
        "    assert model.output_shape == (None, 184, 32, 1)\n",
        "\n",
        "\n",
        "    return model"
      ],
      "execution_count": null,
      "outputs": []
    },
    {
      "cell_type": "code",
      "metadata": {
        "id": "P1E41824lbDh"
      },
      "source": [
        "# This is the final activator, turning the array of floats into 0s and 1s, so that \n",
        "# it can actually be read/written as a MIDI file. We have a choice of 4 different rectifiers,\n",
        "# each deciding whether m[i,j] = 0 or 1 based on the matrix's average, nth percentile,\n",
        "# an average of a travelling window, or a fixed value.\n",
        "\n",
        "def avg_rectifier(T):\n",
        "  m = np.array(T)\n",
        "\n",
        "  avg = np.mean(m)\n",
        "\n",
        "  new_m = np.zeros(np.shape(m))\n",
        "\n",
        "  for i in range(m.shape[0]):\n",
        "    for j in range(m.shape[1]):\n",
        "      if m[i,j] > avg:\n",
        "        new_m[i,j] = 1\n",
        "      else:\n",
        "        new_m[i,j] = 0\n",
        "\n",
        "  new_m = tf.expand_dims(new_m, axis = -1)\n",
        "  new_m = tf.expand_dims(new_m, axis = 0)\n",
        "\n",
        "  return new_m\n",
        "\n",
        "\n",
        "def percentile_rectifier(T, perc):\n",
        "  m = np.array(T)\n",
        "\n",
        "  # This gets the perc^th percentile:\n",
        "  percentile = np.percentile(m,perc)\n",
        "\n",
        "  new_m = np.zeros(np.shape(m))\n",
        "\n",
        "  for i in range(m.shape[0]):\n",
        "    for j in range(m.shape[1]):\n",
        "      if m[i,j] > percentile:\n",
        "        new_m[i,j] = 1\n",
        "      else:\n",
        "        new_m[i,j] = 0\n",
        "\n",
        "  new_m = tf.expand_dims(new_m, axis = -1)\n",
        "  new_m = tf.expand_dims(new_m, axis = 0)\n",
        "\n",
        "  return new_m\n",
        "\n",
        "\n",
        "def window_rectifier(T, pad):\n",
        "  m = np.array(T)\n",
        "\n",
        "  new_m = np.zeros(np.shape(m))\n",
        "\n",
        "  for i in range(pad,m.shape[0]-pad):\n",
        "    for j in range(pad,m.shape[1]-pad):\n",
        "      # Here we take the average of a (2*pad+1)x(2*pad+1) window around m[i,j]\n",
        "      L = m[i-pad:i+pad+1,j-pad:j+pad+1]\n",
        "      L[pad,pad] = 0\n",
        "      window_avg = np.sum(L)/((2*pad+1)^2 - 1)\n",
        "\n",
        "      if m[i,j] > window_avg:\n",
        "        new_m[i,j] = 1\n",
        "      else:\n",
        "        new_m[i,j] = 0\n",
        "  \n",
        "  # Here we're losing the information on the edges:\n",
        "  new_m[:pad,:pad] = 0\n",
        "  new_m[m.shape[0]-pad:,m.shape[1]-pad:] = 0\n",
        "\n",
        "  new_m = tf.expand_dims(new_m, axis = -1)\n",
        "  new_m = tf.expand_dims(new_m, axis = 0)\n",
        "\n",
        "  return new_m\n",
        "\n",
        "\n",
        "def absolute_rectifier(T, value):\n",
        "  m = np.array(T)\n",
        "\n",
        "  new_m = np.zeros(np.shape(m))\n",
        "  # value is what decides whether m[i,j] = 0 or 1\n",
        "\n",
        "  for i in range(m.shape[0]):\n",
        "    for j in range(m.shape[1]):\n",
        "      if m[i,j] > value:\n",
        "        new_m[i,j] = 1\n",
        "      else:\n",
        "        new_m[i,j] = 0\n",
        "\n",
        "  new_m = tf.expand_dims(new_m, axis = -1)\n",
        "  new_m = tf.expand_dims(new_m, axis = 0)\n",
        "\n",
        "  return new_m\n",
        "\n",
        "# Now try to make this into a tf-friendly activation function:\n",
        "\n",
        "# WE CAN'T DO THIS. These rectifiers are basically the Heaviside step function shifted\n",
        "# horizontally, and the step function has derivative 0 almost everywhere so weights will never update!"
      ],
      "execution_count": null,
      "outputs": []
    },
    {
      "cell_type": "code",
      "metadata": {
        "id": "iVJ7gAIIFafi"
      },
      "source": [
        "# This is a generic discriminator, reducing dimension equally with each layer.\n",
        "\n",
        "def make_discriminator_model1(r, t, val, dropout):\n",
        "    model = tf.keras.Sequential()\n",
        "    if t:\n",
        "      model.add(layers.Conv2D(32, (3, 3), strides=(2, 2), padding='same', input_shape=[184, 32, 1], kernel_regularizer=tf.keras.regularizers.L2(l2=r), kernel_constraint = tf.keras.constraints.MaxNorm(max_value=val, axis=[0, 1, 2])))\n",
        "    else:\n",
        "      model.add(layers.Conv2D(32, (3, 3), strides=(2, 2), padding='same', input_shape=[184, 32, 1], kernel_regularizer=tf.keras.regularizers.L2(l2=r)))\n",
        "    model.add(layers.LeakyReLU())\n",
        "    model.add(layers.Dropout(dropout))\n",
        "    # size now is [92, 16, 1]\n",
        "\n",
        "    if t:\n",
        "      model.add(layers.Conv2D(64, (3, 3), strides=(2, 2), padding='same', kernel_regularizer=tf.keras.regularizers.L2(l2=r), kernel_constraint = tf.keras.constraints.MaxNorm(max_value=val, axis=[0, 1, 2])))\n",
        "    else:\n",
        "      model.add(layers.Conv2D(64, (3, 3), strides=(2, 2), padding='same', kernel_regularizer=tf.keras.regularizers.L2(l2=r)))\n",
        "    model.add(layers.LeakyReLU())\n",
        "    model.add(layers.Dropout(dropout))\n",
        "    # size now is [46, 8, 1]\n",
        "\n",
        "    if t:\n",
        "      model.add(layers.Conv2D(128, (1, 1), strides=(2, 2), padding='same', kernel_regularizer=tf.keras.regularizers.L2(l2=r), kernel_constraint = tf.keras.constraints.MaxNorm(max_value=val, axis=[0, 1, 2])))\n",
        "    else:\n",
        "      model.add(layers.Conv2D(128, (1, 1), strides=(2, 2), padding='same', kernel_regularizer=tf.keras.regularizers.L2(l2=r)))\n",
        "    model.add(layers.LeakyReLU())\n",
        "    model.add(layers.Dropout(dropout))\n",
        "    # size now is [23, 4, 1]\n",
        "\n",
        "    if t:\n",
        "      model.add(layers.Conv2D(256, (1, 1), strides=(1, 2), padding='same', kernel_regularizer=tf.keras.regularizers.L2(l2=r), kernel_constraint = tf.keras.constraints.MaxNorm(max_value=val, axis=[0, 1, 2])))\n",
        "    else:\n",
        "      model.add(layers.Conv2D(256, (1, 1), strides=(1, 2), padding='same', kernel_regularizer=tf.keras.regularizers.L2(l2=r)))\n",
        "    model.add(layers.LeakyReLU())\n",
        "    model.add(layers.Dropout(dropout))\n",
        "    # size is still [23, 2, 1]\n",
        "\n",
        "    if t:\n",
        "      model.add(layers.Conv2D(512, (1, 1), strides=(1, 2), padding='same', kernel_regularizer=tf.keras.regularizers.L2(l2=r), kernel_constraint = tf.keras.constraints.MaxNorm(max_value=val, axis=[0, 1, 2])))\n",
        "    else:\n",
        "      model.add(layers.Conv2D(512, (1, 1), strides=(1, 2), padding='same', kernel_regularizer=tf.keras.regularizers.L2(l2=r)))\n",
        "    model.add(layers.LeakyReLU())\n",
        "    model.add(layers.Dropout(dropout))\n",
        "    # size is still [23, 1, 1]\n",
        "\n",
        "    model.add(layers.Flatten())\n",
        "    model.add(layers.Dense(1))\n",
        "\n",
        "\n",
        "    return model"
      ],
      "execution_count": null,
      "outputs": []
    },
    {
      "cell_type": "code",
      "metadata": {
        "id": "x2fYSBDvNeOL"
      },
      "source": [
        "# This discriminator will focus on the placements of notes in the note hierarchy, and not the placement of notes in time\n",
        "\n",
        "def make_discriminator_model2(r, t, val, dropout):\n",
        "    model = tf.keras.Sequential()\n",
        "    if t:\n",
        "      model.add(layers.Conv2D(32, (3, 3), strides=(2, 1), padding='same', input_shape=[184, 32, 1], kernel_regularizer=tf.keras.regularizers.L2(l2=r), kernel_constraint = tf.keras.constraints.MaxNorm(max_value=val, axis=[0, 1, 2])))\n",
        "    else:\n",
        "      model.add(layers.Conv2D(32, (3, 3), strides=(2, 1), padding='same', input_shape=[184, 32, 1], kernel_regularizer=tf.keras.regularizers.L2(l2=r)))\n",
        "    model.add(layers.LeakyReLU())\n",
        "    model.add(layers.Dropout(dropout))\n",
        "    # size now is [92, 32, 1]\n",
        "    \n",
        "    if t:\n",
        "      model.add(layers.Conv2D(64, (3, 3), strides=(2, 1), padding='same', kernel_regularizer=tf.keras.regularizers.L2(l2=r), kernel_constraint = tf.keras.constraints.MaxNorm(max_value=val, axis=[0, 1, 2])))\n",
        "    else:\n",
        "      model.add(layers.Conv2D(64, (3, 3), strides=(2, 1), padding='same', kernel_regularizer=tf.keras.regularizers.L2(l2=r)))\n",
        "    model.add(layers.LeakyReLU())\n",
        "    model.add(layers.Dropout(dropout))\n",
        "    # size now is [46, 32, 1]\n",
        "    \n",
        "    if t:\n",
        "      model.add(layers.Conv2D(128, (3, 3), strides=(2, 1), padding='same', kernel_regularizer=tf.keras.regularizers.L2(l2=r), kernel_constraint = tf.keras.constraints.MaxNorm(max_value=val, axis=[0, 1, 2])))\n",
        "    else:\n",
        "      model.add(layers.Conv2D(128, (3, 3), strides=(2, 1), padding='same', kernel_regularizer=tf.keras.regularizers.L2(l2=r)))\n",
        "    model.add(layers.LeakyReLU())\n",
        "    model.add(layers.Dropout(dropout))\n",
        "    # size now is [23, 32, 1]\n",
        "\n",
        "    if t:\n",
        "      model.add(layers.Conv2D(256, (1, 1), strides=(2, 1), padding='same', kernel_regularizer=tf.keras.regularizers.L2(l2=r), kernel_constraint = tf.keras.constraints.MaxNorm(max_value=val, axis=[0, 1, 2])))\n",
        "    else:\n",
        "      model.add(layers.Conv2D(256, (1, 1), strides=(2, 1), padding='same', kernel_regularizer=tf.keras.regularizers.L2(l2=r)))\n",
        "    model.add(layers.LeakyReLU())\n",
        "    model.add(layers.Dropout(dropout))\n",
        "    # size now is [23, 32, 1]\n",
        "\n",
        "    # now a projection down to the 32-length vector of notes\n",
        "    #model.add(layers.Dense(32))\n",
        "    # or this?:\n",
        "    #if t:\n",
        "      #model.add(layers.Conv2D(512, (1, 1), strides=(23, 1), padding='same', kernel_regularizer=tf.keras.regularizers.L2(l2=r), kernel_constraint = tf.keras.constraints.MaxNorm(max_value=val, axis=[0, 1, 2])))\n",
        "    #else:\n",
        "      #model.add(layers.Conv2D(512, (1, 1), strides=(23, 1), padding='same', kernel_regularizer=tf.keras.regularizers.L2(l2=r)))\n",
        "    #model.add(layers.LeakyReLU())\n",
        "    #model.add(layers.Dropout(dropout))\n",
        "    # size now is [1, 32, 1]\n",
        "\n",
        "    if t:\n",
        "      model.add(layers.Conv2D(512, (1, 1), strides=(2, 1), padding='same', kernel_regularizer=tf.keras.regularizers.L2(l2=r), kernel_constraint = tf.keras.constraints.MaxNorm(max_value=val, axis=[0, 1, 2])))\n",
        "    else:\n",
        "      model.add(layers.Conv2D(512, (1, 1), strides=(2, 1), padding='same', kernel_regularizer=tf.keras.regularizers.L2(l2=r)))\n",
        "    model.add(layers.LeakyReLU())\n",
        "    model.add(layers.Dropout(dropout))\n",
        "    # size now is [11, 32, 1]\n",
        "\n",
        "    if t:\n",
        "      model.add(layers.Conv2D(1024, (1, 1), strides=(2, 1), padding='same', kernel_regularizer=tf.keras.regularizers.L2(l2=r), kernel_constraint = tf.keras.constraints.MaxNorm(max_value=val, axis=[0, 1, 2])))\n",
        "    else:\n",
        "      model.add(layers.Conv2D(1024, (1, 1), strides=(2, 1), padding='same', kernel_regularizer=tf.keras.regularizers.L2(l2=r)))\n",
        "    model.add(layers.LeakyReLU())\n",
        "    model.add(layers.Dropout(dropout))\n",
        "    # size now is [5, 32, 1]\n",
        "\n",
        "    if t:\n",
        "      model.add(layers.Conv2D(2048, (1, 1), strides=(2, 1), padding='same', kernel_regularizer=tf.keras.regularizers.L2(l2=r), kernel_constraint = tf.keras.constraints.MaxNorm(max_value=val, axis=[0, 1, 2])))\n",
        "    else:\n",
        "      model.add(layers.Conv2D(2048, (1, 1), strides=(2, 1), padding='same', kernel_regularizer=tf.keras.regularizers.L2(l2=r)))\n",
        "    model.add(layers.LeakyReLU())\n",
        "    model.add(layers.Dropout(dropout))\n",
        "    # size now is [2, 32, 1]\n",
        "\n",
        "    # This used to be (1,1) strides:\n",
        "    if t:\n",
        "      model.add(layers.Conv2D(4096, (1, 1), strides=(2, 1), padding='same', kernel_regularizer=tf.keras.regularizers.L2(l2=r), kernel_constraint = tf.keras.constraints.MaxNorm(max_value=val, axis=[0, 1, 2])))\n",
        "    else:\n",
        "      model.add(layers.Conv2D(4096, (1, 1), strides=(2, 1), padding='same', kernel_regularizer=tf.keras.regularizers.L2(l2=r)))\n",
        "    model.add(layers.LeakyReLU())\n",
        "    model.add(layers.Dropout(dropout))\n",
        "    # size now is [1, 32, 1]\n",
        "\n",
        "    model.add(layers.Flatten())\n",
        "    model.add(layers.Dense(1))\n",
        "\n",
        "\n",
        "    return model"
      ],
      "execution_count": null,
      "outputs": []
    },
    {
      "cell_type": "code",
      "metadata": {
        "id": "MTmlKpPbmSa4"
      },
      "source": [
        "# This discriminator will focus on time-based information, projecting onto the time axis rather than notes.\n",
        "\n",
        "def make_discriminator_model3(r, t, val, dropout):\n",
        "    model = tf.keras.Sequential()\n",
        "    if t:\n",
        "      model.add(layers.Conv2D(32, (3, 3), strides=(1, 2), padding='same', input_shape=[184, 32, 1], kernel_regularizer=tf.keras.regularizers.L2(l2=r), kernel_constraint = tf.keras.constraints.MaxNorm(max_value=val, axis=[0, 1, 2])))\n",
        "    else:\n",
        "      model.add(layers.Conv2D(32, (3, 3), strides=(1, 2), padding='same', input_shape=[184, 32, 1], kernel_regularizer=tf.keras.regularizers.L2(l2=r)))\n",
        "    model.add(layers.LeakyReLU())\n",
        "    model.add(layers.Dropout(dropout))\n",
        "    # size now is [184, 16, 1]\n",
        "    \n",
        "    if t:\n",
        "      model.add(layers.Conv2D(64, (3, 3), strides=(1, 2), padding='same', kernel_regularizer=tf.keras.regularizers.L2(l2=r), kernel_constraint = tf.keras.constraints.MaxNorm(max_value=val, axis=[0, 1, 2])))\n",
        "    else:\n",
        "      model.add(layers.Conv2D(64, (3, 3), strides=(1, 2), padding='same', kernel_regularizer=tf.keras.regularizers.L2(l2=r)))\n",
        "    model.add(layers.LeakyReLU())\n",
        "    model.add(layers.Dropout(dropout))\n",
        "    # size now is [184, 8, 1]\n",
        "    \n",
        "    if t:\n",
        "      model.add(layers.Conv2D(128, (3, 3), strides=(1, 2), padding='same', kernel_regularizer=tf.keras.regularizers.L2(l2=r), kernel_constraint = tf.keras.constraints.MaxNorm(max_value=val, axis=[0, 1, 2])))\n",
        "    else:\n",
        "      model.add(layers.Conv2D(128, (3, 3), strides=(1, 2), padding='same', kernel_regularizer=tf.keras.regularizers.L2(l2=r)))\n",
        "    model.add(layers.LeakyReLU())\n",
        "    model.add(layers.Dropout(dropout))\n",
        "    # size now is [184, 4, 1]\n",
        "\n",
        "    if t:\n",
        "      model.add(layers.Conv2D(256, (1, 1), strides=(1, 2), padding='same', kernel_regularizer=tf.keras.regularizers.L2(l2=r), kernel_constraint = tf.keras.constraints.MaxNorm(max_value=val, axis=[0, 1, 2])))\n",
        "    else:\n",
        "      model.add(layers.Conv2D(256, (1, 1), strides=(1, 2), padding='same', kernel_regularizer=tf.keras.regularizers.L2(l2=r)))\n",
        "    model.add(layers.LeakyReLU())\n",
        "    model.add(layers.Dropout(dropout))\n",
        "    # size now is [184, 2, 1]\n",
        "\n",
        "    if t:\n",
        "      model.add(layers.Conv2D(512, (1, 1), strides=(1, 2), padding='same', kernel_regularizer=tf.keras.regularizers.L2(l2=r), kernel_constraint = tf.keras.constraints.MaxNorm(max_value=val, axis=[0, 1, 2])))\n",
        "    else:\n",
        "      model.add(layers.Conv2D(512, (1, 1), strides=(1, 2), padding='same', kernel_regularizer=tf.keras.regularizers.L2(l2=r)))\n",
        "    model.add(layers.LeakyReLU())\n",
        "    model.add(layers.Dropout(dropout))\n",
        "    # size now is [184, 1, 1]\n",
        "\n",
        "    # This is a new addition:\n",
        "    #if t:\n",
        "      #model.add(layers.Conv2D(1024, (1, 1), strides=(2, 1), padding='same', kernel_regularizer=tf.keras.regularizers.L2(l2=r), kernel_constraint = tf.keras.constraints.MaxNorm(max_value=val, axis=[0, 1, 2])))\n",
        "    #else:\n",
        "      #model.add(layers.Conv2D(1024, (1, 1), strides=(2, 1), padding='same', kernel_regularizer=tf.keras.regularizers.L2(l2=r)))\n",
        "    #model.add(layers.LeakyReLU())\n",
        "    #model.add(layers.Dropout(dropout))\n",
        "    # size now is [92, 1, 1]\n",
        "\n",
        "    #if t:\n",
        "      #model.add(layers.Conv2D(2048, (1, 1), strides=(2, 1), padding='same', kernel_regularizer=tf.keras.regularizers.L2(l2=r), kernel_constraint = tf.keras.constraints.MaxNorm(max_value=val, axis=[0, 1, 2])))\n",
        "    #else:\n",
        "      #model.add(layers.Conv2D(2048, (1, 1), strides=(2, 1), padding='same', kernel_regularizer=tf.keras.regularizers.L2(l2=r)))\n",
        "    #model.add(layers.LeakyReLU())\n",
        "    #model.add(layers.Dropout(dropout))\n",
        "    # size now is [46, 1, 1]\n",
        "\n",
        "    #-------New(er)-------:\n",
        "    #if t:\n",
        "      #model.add(layers.Conv2D(4096, (1, 1), strides=(2, 1), padding='same', kernel_regularizer=tf.keras.regularizers.L2(l2=r), kernel_constraint = tf.keras.constraints.MaxNorm(max_value=val, axis=[0, 1, 2])))\n",
        "    #else:\n",
        "      #model.add(layers.Conv2D(4096, (1, 1), strides=(2, 1), padding='same', kernel_regularizer=tf.keras.regularizers.L2(l2=r)))\n",
        "    #model.add(layers.LeakyReLU())\n",
        "    #model.add(layers.Dropout(dropout))\n",
        "    # size now is [23, 1, 1]\n",
        "\n",
        "    model.add(layers.Flatten())\n",
        "    model.add(layers.Dense(1))\n",
        "\n",
        "\n",
        "    return model"
      ],
      "execution_count": null,
      "outputs": []
    },
    {
      "cell_type": "code",
      "metadata": {
        "id": "PBc1Eas5FgZW"
      },
      "source": [
        "# This method returns a helper function to compute cross entropy loss\n",
        "cross_entropy = tf.keras.losses.BinaryCrossentropy(from_logits=True)"
      ],
      "execution_count": null,
      "outputs": []
    },
    {
      "cell_type": "code",
      "metadata": {
        "id": "ZeuqSiwgFgbi"
      },
      "source": [
        "def discriminator_loss(real_output, fake_output):\n",
        "    real_loss = cross_entropy(tf.ones_like(real_output), real_output)\n",
        "    fake_loss = cross_entropy(tf.zeros_like(fake_output), fake_output)\n",
        "    total_loss = real_loss + fake_loss\n",
        "    return total_loss\n",
        "\n",
        "def generator_loss(fake_output):\n",
        "    return cross_entropy(tf.ones_like(fake_output), fake_output)\n"
      ],
      "execution_count": null,
      "outputs": []
    },
    {
      "cell_type": "code",
      "metadata": {
        "id": "KwPCMa8iFoGr"
      },
      "source": [
        "EPOCHS = 20\n",
        "noise_dim = 100\n",
        "# make this a square (1,4,16,... etc.) for the subplotting code:\n",
        "num_examples_to_generate = 1\n",
        "\n",
        "# We will reuse this seed overtime (so it's easier)\n",
        "# to visualize progress in the animated GIF)\n",
        "seed = tf.random.normal([num_examples_to_generate, noise_dim])"
      ],
      "execution_count": null,
      "outputs": []
    },
    {
      "cell_type": "code",
      "metadata": {
        "id": "8rPoAJikFuIw"
      },
      "source": [
        "@tf.function\n",
        "def train_step(images, w1, w2, w3):\n",
        "    noise = tf.random.normal([BATCH_SIZE, noise_dim])\n",
        "\n",
        "    with tf.GradientTape() as gen_tape, tf.GradientTape() as disc1_tape, tf.GradientTape() as disc2_tape, tf.GradientTape() as disc3_tape:\n",
        "        generated_images = generator(noise, training=True)\n",
        "\n",
        "        real_output1 = discriminator1(images, training=True)\n",
        "        fake_output1 = discriminator1(generated_images, training=True)\n",
        "        real_output2 = discriminator2(images, training=True)\n",
        "        fake_output2 = discriminator2(generated_images, training=True)\n",
        "        real_output3 = discriminator3(images, training=True)\n",
        "        fake_output3 = discriminator3(generated_images, training=True)\n",
        "\n",
        "        # What loss should the generator get?\n",
        "        # We'll try a weighted average...but is that the best for a possibly negative output?\n",
        "        # w3 tends towards only having ride-timing.\n",
        "\n",
        "        avg_fake_output = (w1*fake_output1 + w2*fake_output2 + w3*fake_output3)/(w1 + w2 + w3)\n",
        "\n",
        "        gen_loss = generator_loss(avg_fake_output)\n",
        "        disc1_loss = discriminator_loss(real_output1, fake_output1)\n",
        "        disc2_loss = discriminator_loss(real_output2, fake_output2)\n",
        "        disc3_loss = discriminator_loss(real_output3, fake_output3)\n",
        "\n",
        "    gradients_of_generator = gen_tape.gradient(gen_loss, generator.trainable_variables)\n",
        "    gradients_of_discriminator1 = disc1_tape.gradient(disc1_loss, discriminator1.trainable_variables)\n",
        "    gradients_of_discriminator2 = disc2_tape.gradient(disc2_loss, discriminator2.trainable_variables)\n",
        "    gradients_of_discriminator3 = disc3_tape.gradient(disc3_loss, discriminator3.trainable_variables)\n",
        "\n",
        "    generator_optimizer.apply_gradients(zip(gradients_of_generator, generator.trainable_variables))\n",
        "    discriminator_optimizer1.apply_gradients(zip(gradients_of_discriminator1, discriminator1.trainable_variables))\n",
        "    discriminator_optimizer2.apply_gradients(zip(gradients_of_discriminator2, discriminator2.trainable_variables))\n",
        "    discriminator_optimizer3.apply_gradients(zip(gradients_of_discriminator3, discriminator3.trainable_variables))"
      ],
      "execution_count": null,
      "outputs": []
    },
    {
      "cell_type": "code",
      "metadata": {
        "id": "Eun6zO6QFuLK"
      },
      "source": [
        "def train(dataset, epochs, val, tag, w1, w2, w3):\n",
        "    for epoch in range(epochs):\n",
        "        start = time.time()\n",
        "\n",
        "        for image_batch in dataset:\n",
        "            train_step(image_batch, w1, w2, w3)\n",
        "\n",
        "        # Produce images for the GIF as we go\n",
        "        display.clear_output(wait=True)\n",
        "        generate_and_save(generator, epoch + 1, seed, tag, val)\n",
        "\n",
        "        # Save the model every 15 epochs\n",
        "        if (epoch + 1) % 15 == 0:\n",
        "            checkpoint.save(file_prefix = checkpoint_prefix)\n",
        "\n",
        "        print ('Time for epoch {} is {} sec'.format(epoch + 1, time.time()-start))\n",
        "\n",
        "    # Generate after the final epoch\n",
        "    display.clear_output(wait=True)\n",
        "    generate_and_save(generator, epochs, seed, tag, val)"
      ],
      "execution_count": null,
      "outputs": []
    },
    {
      "cell_type": "code",
      "metadata": {
        "id": "adUGeiKgFuNY"
      },
      "source": [
        "def generate_and_save(model, epoch, test_input, tag, val):\n",
        "    # Notice 'training' is set to False.\n",
        "    # This is so all layers run in inference mode (batchnorm).\n",
        "    predictions = model(test_input, training=False)\n",
        "\n",
        "    fig = plt.figure(figsize=(int(np.sqrt(num_examples_to_generate)), int(np.sqrt(num_examples_to_generate))))\n",
        "\n",
        "    for i in range(predictions.shape[0]):\n",
        "        plt.subplot(int(np.sqrt(num_examples_to_generate)), int(np.sqrt(num_examples_to_generate)), i+1)\n",
        "        if tag == \"absolute\":\n",
        "          plt.imshow(absolute_rectifier(predictions[i,:,:,0], val)[0,:,:,0], cmap='gray')\n",
        "          plt.axis('off')\n",
        "          noteStateMatrixToMidi(absolute_rectifier(predictions[i,:,:,0], val)[0,:,:,0], \"song \" + str(i) + \" of epoch \" + str(epoch))\n",
        "        elif tag == \"percentile\":\n",
        "          plt.imshow(percentile_rectifier(predictions[i,:,:,0], val)[0,:,:,0], cmap='gray')\n",
        "          plt.axis('off')\n",
        "          noteStateMatrixToMidi(percentile_rectifier(predictions[i,:,:,0], val)[0,:,:,0], \"song \" + str(i) + \" of epoch \" + str(epoch))\n",
        "        elif tag == \"window\":\n",
        "          plt.imshow(window_rectifier(predictions[i,:,:,0], val)[0,:,:,0], cmap='gray')\n",
        "          plt.axis('off')\n",
        "          noteStateMatrixToMidi(window_rectifier(predictions[i,:,:,0], val)[0,:,:,0], \"song \" + str(i) + \" of epoch \" + str(epoch))\n",
        "        elif tag == \"average\":\n",
        "          plt.imshow(avg_rectifier(predictions[i,:,:,0])[0,:,:,0], cmap='gray')\n",
        "          plt.axis('off')\n",
        "          noteStateMatrixToMidi(avg_rectifier(predictions[i,:,:,0])[0,:,:,0], \"song \" + str(i) + \" of epoch \" + str(epoch))\n",
        "\n",
        "    plt.savefig('/content/drive/MyDrive/Music GAN Images/Images/image_at_epoch_{:04d}.png'.format(epoch))\n",
        "    plt.show()"
      ],
      "execution_count": null,
      "outputs": []
    },
    {
      "cell_type": "code",
      "metadata": {
        "colab": {
          "base_uri": "https://localhost:8080/",
          "height": 287
        },
        "id": "43osmDRWx221",
        "outputId": "50b344bf-679a-4b95-ad53-86afe51f8966"
      },
      "source": [
        "# the 3 fields for the generator are: \n",
        "# (L2 regularization parameter for the kernel, T/F value of whether to use kernel constraint, MaxNorm value for the kernel\n",
        "# constraint [if included using the T/F value]).\n",
        "\n",
        "# Here we make the generator and apply it to sample noise:\n",
        "generator = make_generator_model(0.0001, False, 0)\n",
        "noise = tf.random.normal([1, 100])\n",
        "S = generator(noise, training=False)\n",
        "\n",
        "plt.imshow(S[0, :, :, 0], cmap='gray')"
      ],
      "execution_count": null,
      "outputs": [
        {
          "output_type": "execute_result",
          "data": {
            "text/plain": [
              "<matplotlib.image.AxesImage at 0x7ff70e093490>"
            ]
          },
          "metadata": {
            "tags": []
          },
          "execution_count": 156
        },
        {
          "output_type": "display_data",
          "data": {
            "image/png": "[encoded data removed]",
            "text/plain": [
              "<Figure size 432x288 with 1 Axes>"
            ]
          },
          "metadata": {
            "tags": [],
            "needs_background": "light"
          }
        }
      ]
    },
    {
      "cell_type": "code",
      "metadata": {
        "colab": {
          "base_uri": "https://localhost:8080/",
          "height": 269
        },
        "id": "MLrLRSrjyy78",
        "outputId": "1b9f1e77-dc16-4831-e4d8-9310b8ddd359"
      },
      "source": [
        "# Now apply the rectifier to make all entries 0 or 1:\n",
        "newS = percentile_rectifier(S[0,:,:,0], 80)\n",
        "plt.imshow(newS[0,:,:,0], cmap='gray')\n",
        "\n",
        "# Save the test song:\n",
        "noteStateMatrixToMidi(np.array(newS[0,:,:,0]), \"test song\")"
      ],
      "execution_count": null,
      "outputs": [
        {
          "output_type": "display_data",
          "data": {
            "image/png": "[encoded data removed]",
            "text/plain": [
              "<Figure size 432x288 with 1 Axes>"
            ]
          },
          "metadata": {
            "tags": [],
            "needs_background": "light"
          }
        }
      ]
    },
    {
      "cell_type": "code",
      "metadata": {
        "colab": {
          "base_uri": "https://localhost:8080/",
          "height": 287
        },
        "id": "QQZkcHKdKRYo",
        "outputId": "338e52ba-ce2b-4eac-e6a2-a3453356985f"
      },
      "source": [
        "# Just checking what a real song looks like:\n",
        "plt.imshow(songlist[5][:184,:], cmap='gray')"
      ],
      "execution_count": null,
      "outputs": [
        {
          "output_type": "execute_result",
          "data": {
            "text/plain": [
              "<matplotlib.image.AxesImage at 0x7ff7070b5ad0>"
            ]
          },
          "metadata": {
            "tags": []
          },
          "execution_count": 158
        },
        {
          "output_type": "display_data",
          "data": {
            "image/png": "[encoded data removed]",
            "text/plain": [
              "<Figure size 432x288 with 1 Axes>"
            ]
          },
          "metadata": {
            "tags": [],
            "needs_background": "light"
          }
        }
      ]
    },
    {
      "cell_type": "code",
      "metadata": {
        "colab": {
          "base_uri": "https://localhost:8080/"
        },
        "id": "CX_OOrpcyupw",
        "outputId": "c30bb6bf-07f0-46a3-e1a7-4295b5e677ff"
      },
      "source": [
        "# the 4 fields for the discriminators are: \n",
        "# (L2 regularization parameter for the kernel, T/F value of whether to use a kernel constraint, MaxNorm value for the kernel\n",
        "# constraint [if included using the T/F value], and dropout rate).\n",
        "\n",
        "discriminator1 = make_discriminator_model1(0.0001, False, 0, 0.3)   # Dropout was 0.3 earlier\n",
        "discriminator2 = make_discriminator_model2(0.0001, False, 0, 0.3)\n",
        "discriminator3 = make_discriminator_model3(0.0001, False, 0, 0.3)\n",
        "decision1 = discriminator1(newS)\n",
        "decision2 = discriminator2(newS)\n",
        "decision3 = discriminator3(newS)\n",
        "print(np.array(decision1)[0][0], np.array(decision2)[0][0], np.array(decision3)[0][0])\n",
        "print()\n",
        "# positive for real, negative for fake.\n",
        "\n",
        "# weighted sum of 3 decisions:\n",
        "weight1 = 1\n",
        "weight2 = 1.5\n",
        "weight3 = 0.7\n",
        "print((weight1*np.array(decision1)[0][0] + weight2*np.array(decision2)[0][0] + weight3*np.array(decision3)[0][0])/(weight1+weight2+weight3))"
      ],
      "execution_count": null,
      "outputs": [
        {
          "output_type": "stream",
          "text": [
            "-0.009957407 0.0006157328 -0.004081995\n",
            "\n",
            "-0.0037160012889216887\n"
          ],
          "name": "stdout"
        }
      ]
    },
    {
      "cell_type": "code",
      "metadata": {
        "id": "6bx2CLwOFoED"
      },
      "source": [
        "generator_optimizer = tf.keras.optimizers.Adam(1e-4)\n",
        "discriminator_optimizer1 = tf.keras.optimizers.Adam(1e-4)\n",
        "discriminator_optimizer2 = tf.keras.optimizers.Adam(1e-4)\n",
        "discriminator_optimizer3 = tf.keras.optimizers.Adam(1e-4)\n",
        "\n",
        "import os\n",
        "checkpoint_dir = './training_checkpoints'\n",
        "checkpoint_prefix = os.path.join(checkpoint_dir, \"ckpt\")\n",
        "checkpoint = tf.train.Checkpoint(generator_optimizer=generator_optimizer,\n",
        "                                 discriminator_optimizer1=discriminator_optimizer1,\n",
        "                                 discriminator_optimizer2=discriminator_optimizer2,\n",
        "                                 discriminator_optimizer3=discriminator_optimizer3,\n",
        "                                 generator=generator,\n",
        "                                 discriminator1=discriminator1,\n",
        "                                 discriminator2=discriminator2,\n",
        "                                 discriminator3=discriminator3)"
      ],
      "execution_count": null,
      "outputs": []
    },
    {
      "cell_type": "code",
      "metadata": {
        "id": "g1A8rCYXFoI1",
        "colab": {
          "base_uri": "https://localhost:8080/",
          "height": 85
        },
        "outputId": "22878e1d-cd11-41a4-c433-93455b62f981"
      },
      "source": [
        "# Now for actual training:\n",
        "\n",
        "# Last three numbers are weights for discriminator 1, 2, and 3. The generator's loss function is fed the weighted average of\n",
        "# the decision from the 3 discriminators. Ex.: (w1, w2, w3) = (1, 0, 0) means the generator's loss function is only being\n",
        "# fed the 1st discriminator's decision.\n",
        "# The input before the weights is a tag which identifies which rectifier to use to make sure all entries are 0 or 1.\n",
        "# Available rectifiers: absolute, percentile, window, and average.\n",
        "# Before this is a value which, for the window/absolute/percentile rectifiers, specifies the window padding/\n",
        "# fixed value/percentile which those rectifiers will use.\n",
        "\n",
        "train(train_dataset, EPOCHS, 90, \"percentile\", 1, 1.15, 1.1)\n",
        "\n",
        "# Best results I have found have been with percentile rectifier, 75-95th percentile and\n",
        "# absolute rectifier with fixed value of around 0.15."
      ],
      "execution_count": null,
      "outputs": [
        {
          "output_type": "display_data",
          "data": {
            "image/png": "[encoded data removed]",
            "text/plain": [
              "<Figure size 72x72 with 1 Axes>"
            ]
          },
          "metadata": {
            "tags": [],
            "needs_background": "light"
          }
        }
      ]
    },
    {
      "cell_type": "code",
      "metadata": {
        "id": "rrXe-B345IvK"
      },
      "source": [
        ""
      ],
      "execution_count": null,
      "outputs": []
    },
    {
      "cell_type": "markdown",
      "metadata": {
        "id": "rG0HS41I5A3j"
      },
      "source": [
        ""
      ]
    },
    {
      "cell_type": "code",
      "metadata": {
        "id": "6xmZkg0YFz-2"
      },
      "source": [
        "# Things to possibly add: \n",
        "# 1. Mess with kernel sizes...Do they need to be square for the discriminators which work by projecting to 1 dimension\n",
        "# at a time rather than projecting to dimension 0 all at the same time (i.e. discriminators 2 and 3)? Try non-square\n",
        "# kernel sizes like 3x1 or 1x3. 6x1 makes sense since 184/32 = 5.75 ~ 6.\n",
        "\n",
        "# 2. Seen from viewing the images produces, in later epochs (10-35 and on) the notes stack on the right side of the\n",
        "# matrix (indices [:,16-32], the off notes), WHY is this? How do we prevent this? \n",
        "\n",
        "# 3. Play with kernel regularization to prevent overfitting, as well as perhaps instituting a maxnorm constraint for \n",
        "# weights (this will slow training so the best examples don't occur in epoch 2). Ex:\n",
        "# model.add(layers.Conv2D(2048, (1, 1), strides=(2, 1), padding='same', kernel_regularizer=tf.keras.regularizers.L2(l2=0.001), kernel_constraint = tf.keras.constraints.MaxNorm(max_value=2, axis=[0, 1, 2])))\n",
        "\n",
        "# 4. do we need discriminator 3?\n",
        "# 5. play around with the rectifier..absolute, window, or average/percentile?\n",
        "# 6. other ways of reducing dimension other than a Dense layer? (Conv2D used...Seems to work better.)\n",
        "# 7. 0-30 epochs seems good so far, with best results in epochs 1-5.\n",
        "\n"
      ],
      "execution_count": null,
      "outputs": []
    },
    {
      "cell_type": "code",
      "metadata": {
        "id": "n0PgBc-TF0BO"
      },
      "source": [
        "# Note value finding:\n",
        "\n",
        "#note_test1 = np.zeros((184,32))\n",
        "# shape = (184, 32)\n",
        "#note = 18\n",
        "\n",
        "#for i in range(note_test1.shape[0]):\n",
        "  #for j in range(note_test1.shape[1]):\n",
        "    #if i%4 == 0:\n",
        "      #note_test1[i,0] = 1\n",
        "    #if i%4 == 2:\n",
        "      #note_test1[i,2] = 1\n",
        "    #note_test1[i,6] = 1\n",
        "    #note_test1[i,22] = 1\n",
        "\n",
        "#noteStateMatrixToMidi(note_test1, \"note test 1\")\n",
        "\n",
        "# 0 is bass drum\n",
        "# 1 is stick click\n",
        "# 2 is snare drum\n",
        "# 3 is clap\n",
        "# 4 is piccolo snare drum\n",
        "# 5 is (tight) floor tom\n",
        "# 6 is closed hihat\n",
        "# 7 is medium tom\n",
        "# 8 is hihat pedal close\n",
        "# 9 is high tom\n",
        "# 10 is open hihat\n",
        "# 11 is (tight) high tom\n",
        "# 12 is (tight) higher tom\n",
        "# 13 is crash\n",
        "# 14 is (tight) highest tom\n",
        "# 15 is ride\n",
        "# 16-32 are nothing\n",
        "\n",
        "# 16-32 are the \"off\" notes, where as 0-15 are the \"on\" notes.\n",
        "# Note that for the closed hihat instrument to function it needs \"off\" notes."
      ],
      "execution_count": null,
      "outputs": []
    }
  ]
}